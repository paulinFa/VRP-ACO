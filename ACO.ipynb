{
 "cells": [
  {
   "cell_type": "code",
   "execution_count": 1,
   "metadata": {},
   "outputs": [
    {
     "output_type": "stream",
     "name": "stdout",
     "text": [
      "pygame 2.0.1 (SDL 2.0.14, Python 3.8.10)\nHello from the pygame community. https://www.pygame.org/contribute.html\n"
     ]
    }
   ],
   "source": [
    "import numpy as np\n",
    "import networkx as nx\n",
    "import matplotlib.pyplot as plt\n",
    "import functools\n",
    "import random\n",
    "import time\n",
    "import random\n",
    "from pygame_visualization import VRPVisualizator"
   ]
  },
  {
   "cell_type": "code",
   "execution_count": 2,
   "metadata": {},
   "outputs": [],
   "source": [
    "vizu = VRPVisualizator()"
   ]
  },
  {
   "cell_type": "code",
   "execution_count": 3,
   "metadata": {},
   "outputs": [],
   "source": [
    "def manhattan(a, b):\n",
    "    return sum(abs(val1-val2) for val1, val2 in zip(a,b))"
   ]
  },
  {
   "cell_type": "code",
   "execution_count": 4,
   "metadata": {},
   "outputs": [],
   "source": [
    "def generate_coordinates(n_nodes: int, x_coords_range, y_coords_range, min_distance: float):\n",
    "    generated_coords = [(0, 0)]\n",
    "    vizu.add_node(0, 0)\n",
    "    for i in range(n_nodes - 1):\n",
    "        is_ok = False\n",
    "        while not is_ok:\n",
    "            coord = (random.uniform(*x_coords_range), random.uniform(*y_coords_range))\n",
    "            is_ok = True\n",
    "            for node in generated_coords:\n",
    "                if manhattan(coord, node) < min_distance:\n",
    "                    is_ok = False\n",
    "        generated_coords.append(coord)\n",
    "        vizu.add_node(coord[0], coord[1])\n",
    "    return generated_coords"
   ]
  },
  {
   "cell_type": "code",
   "execution_count": 5,
   "metadata": {},
   "outputs": [],
   "source": [
    "def generate_graph_matrix(length: int):\n",
    "    coords = generate_coordinates(length, (-600, 600), (-400, 400), 200)\n",
    "    matrix = np.empty((length, length))\n",
    "    matrix[:] = np.nan\n",
    "    for i in range(length):\n",
    "        for j in range(length):\n",
    "            if i != j:\n",
    "                dist = manhattan(coords[i], coords[j])\n",
    "                matrix[i][j] = dist\n",
    "                matrix[j][i] = dist\n",
    "    return matrix"
   ]
  },
  {
   "cell_type": "code",
   "execution_count": 6,
   "metadata": {},
   "outputs": [],
   "source": [
    "vizu.clear_nodes()\n",
    "graph = generate_graph_matrix(20)"
   ]
  },
  {
   "cell_type": "code",
   "execution_count": 7,
   "metadata": {},
   "outputs": [],
   "source": [
    "vizu.set_scaling(1.2)"
   ]
  },
  {
   "cell_type": "code",
   "execution_count": 8,
   "metadata": {},
   "outputs": [
    {
     "output_type": "stream",
     "name": "stdout",
     "text": [
      "[[          nan  624.48485162  225.2099674   538.08055285  610.75980836\n   653.68039877  324.70861896  591.2009973   303.96175938  701.70504239\n   231.98411139  549.32909696  378.56449378  814.48225856  318.80733709\n   791.82041467  577.05336927  566.6488611   854.83570971  786.02805728]\n [ 624.48485162           nan  849.69481901  797.68864385  731.37597021\n   421.66145258  308.01222358 1215.68584891  320.52309223 1030.21573168\n   639.76405455 1173.81394858  437.11438864  693.8660967   943.29218871\n  1416.30526629  456.43720742  209.73512101  230.3508581   906.64421913]\n [ 225.2099674   849.69481901           nan  482.62689015  555.30614565\n   878.89036617  541.68259544  365.9910299   529.17172678  646.25137969\n   209.93076446  324.11912957  603.77446118  869.93592126  324.50746711\n   566.61044727  637.97562766  791.8588285  1080.04567711  730.57439458]\n [ 538.08055285  797.68864385  482.62689015           nan  222.97213512\n  1080.35816729  862.78917181  464.89815878  477.16555162  232.52708783\n   306.09644146  376.12530473  551.76828602 1352.56281141  807.13435726\n   618.61662243 1115.13392212  739.85265334 1028.03950195  247.94750443]\n [ 610.75980836  731.37597021  555.30614565  222.97213512           nan\n  1153.03742279  935.46842732  640.96934018  538.00906833  455.49922295\n   378.77569696  599.09743985  328.7961509  1425.24206691  879.81361276\n   841.58875755 1187.81317763  521.6408492   805.06736683  243.80216498]\n [ 653.68039877  421.66145258  878.89036617 1080.35816729 1153.03742279\n            nan  337.20777074 1244.88139607  615.02835447 1243.98265683\n   774.26172583 1203.00949574  858.77584123  593.38607307  972.48773586\n  1445.50081344  240.91473851  631.39657359  452.1130974  1328.30567172]\n [ 324.70861896  308.01222358  541.68259544  862.78917181  935.46842732\n   337.20777074           nan  907.67362534  397.45935899 1026.41366135\n   556.69273035  865.801725    641.20684575  489.7736396   635.27996513\n  1108.29304271  252.34475031  413.82757811  538.36308168 1110.73667624]\n [ 591.2009973  1215.68584891  365.9910299   464.89815878  640.96934018\n  1244.88139607  907.67362534           nan  895.16275668  628.52264832\n   575.92179436  295.60708778  969.76549108  887.66465262  342.23619848\n   200.61941737 1003.96665757 1157.8498584  1446.03670701  712.84566321]\n [ 303.96175938  320.52309223  529.17172678  477.16555162  538.00906833\n   615.02835447  397.45935899  895.16275668           nan  709.69263945\n   319.24096232  853.29085635  243.74748676  887.23299859  622.76909647\n  1095.78217405  649.8041093   262.68710172  550.87395033  713.27731725]\n [ 701.70504239 1030.21573168  646.25137969  232.52708783  455.49922295\n  1243.98265683 1026.41366135  628.52264832  709.69263945           nan\n   469.720931    332.91556054  784.29537385 1516.18730095  970.7588468\n   460.78426368 1278.75841166  972.37974117 1260.56658978  211.69705797]\n [ 231.98411139  639.76405455  209.93076446  306.09644146  378.77569696\n   774.26172583  556.69273035  575.92179436  319.24096232  469.720931\n            nan  534.04989402  393.84369672 1046.46636995  501.0379158\n   776.54121173  809.03748066  581.92806404  870.11491265  554.04394588]\n [ 549.32909696 1173.81394858  324.11912957  376.12530473  599.09743985\n  1203.00949574  865.801725    295.60708778  853.29085635  332.91556054\n   534.04989402           nan  927.89359074 1183.2717404   637.84328626\n   242.49131771  962.09475723 1115.97795806 1404.16480668  417.23857543]\n [ 378.56449378  437.11438864  603.77446118  551.76828602  328.7961509\n   858.77584123  641.20684575  969.76549108  243.74748676  784.29537385\n   393.84369672  927.89359074           nan 1130.98048535  697.37183087\n  1170.38490845  893.55159606  227.37926764  476.27121593  572.59831588]\n [ 814.48225856  693.8660967   869.93592126 1352.56281141 1425.24206691\n   593.38607307  489.7736396   887.66465262  887.23299859 1516.18730095\n  1046.46636995 1183.2717404  1130.98048535           nan  545.42845415\n  1055.40303727  352.47133456  903.60121771  794.54138401 1600.51031583]\n [ 318.80733709  943.29218871  324.50746711  807.13435726  879.81361276\n   972.48773586  635.27996513  342.23619848  622.76909647  970.7588468\n   501.0379158   637.84328626  697.37183087  545.42845415           nan\n   509.97458312  731.57299736  885.45619819 1173.6430468  1055.08186169]\n [ 791.82041467 1416.30526629  566.61044727  618.61662243  841.58875755\n  1445.50081344 1108.29304271  200.61941737 1095.78217405  460.78426368\n   776.54121173  242.49131771 1170.38490845 1055.40303727  509.97458312\n            nan 1204.58607494 1358.46927577 1646.65612438  597.78659257]\n [ 577.05336927  456.43720742  637.97562766 1115.13392212 1187.81317763\n   240.91473851  252.34475031 1003.96665757  649.8041093  1278.75841166\n   809.03748066  962.09475723  893.55159606  352.47133456  731.57299736\n  1204.58607494           nan  666.17232842  486.88885223 1363.08142655]\n [ 566.6488611   209.73512101  791.8588285   739.85265334  521.6408492\n   631.39657359  413.82757811 1157.8498584   262.68710172  972.37974117\n   581.92806404 1115.97795806  227.37926764  903.60121771  885.45619819\n  1358.46927577  666.17232842           nan  288.18684861  760.6826832 ]\n [ 854.83570971  230.3508581  1080.04567711 1028.03950195  805.06736683\n   452.1130974   538.36308168 1446.03670701  550.87395033 1260.56658978\n   870.11491265 1404.16480668  476.27121593  794.54138401 1173.6430468\n  1646.65612438  486.88885223  288.18684861           nan 1048.86953181]\n [ 786.02805728  906.64421913  730.57439458  247.94750443  243.80216498\n  1328.30567172 1110.73667624  712.84566321  713.27731725  211.69705797\n   554.04394588  417.23857543  572.59831588 1600.51031583 1055.08186169\n   597.78659257 1363.08142655  760.6826832  1048.86953181           nan]]\n"
     ]
    }
   ],
   "source": [
    "print(graph)"
   ]
  },
  {
   "cell_type": "code",
   "execution_count": 17,
   "metadata": {},
   "outputs": [],
   "source": [
    "#Impact of pheromones\n",
    "ALPHA = 0.6\n",
    "#Impact of weights\n",
    "BETA = 0.5\n",
    "\n",
    "class Ant():\n",
    "    def __init__(self, init_pos: int, vizualizator: VRPVisualizator) -> None:\n",
    "        self.init_pos = init_pos\n",
    "        self.vizualizator = vizualizator\n",
    "        self.current_pos = init_pos\n",
    "        self.path_history = [init_pos]\n",
    "        self.can_continue = True\n",
    "\n",
    "    def add_to_path_history(self, node) -> None:\n",
    "        self.path_history.append(node)\n",
    "        #self.vizualizator.set_path(self.path_history)\n",
    "\n",
    "    def move(self, dest: list, pheromones: list) -> None:\n",
    "        probabilities = []\n",
    "        denominator = 0\n",
    "        \n",
    "        #Calculate the denominator first\n",
    "        for i in range(len(dest)):\n",
    "            if not np.isnan(dest[i]) and i not in self.path_history:\n",
    "                denominator += pheromones[i]**ALPHA * (1/dest[i])**BETA\n",
    "\n",
    "        #Calculate probabilities of picking one path\n",
    "        for node, length in enumerate(dest):\n",
    "            if node in self.path_history:\n",
    "                probabilities.append(0)\n",
    "            elif not np.isnan(dest[node]):\n",
    "                nominator = pheromones[node]**ALPHA * (1/dest[node])**BETA\n",
    "                probabilities.append(nominator / denominator)\n",
    "            else:\n",
    "                probabilities.append(np.nan)\n",
    "        \n",
    "        #If there is no path available return false\n",
    "        if np.nansum(probabilities) == 0:\n",
    "            self.add_to_path_history(self.init_pos)\n",
    "            self.can_continue = False\n",
    "            return\n",
    "\n",
    "        #Roulette wheel\n",
    "        cumulative_sum = []\n",
    "        for i in range(len(probabilities)):\n",
    "            if np.isnan(probabilities[i]):\n",
    "                cumulative_sum.append(np.nan)\n",
    "            elif np.nansum(cumulative_sum) == 0:\n",
    "                cumulative_sum.append(1.0)\n",
    "            else:\n",
    "                cumulative_sum.append(np.nansum(probabilities[i:len(probabilities)]))\n",
    "        \n",
    "        #Pick a destination\n",
    "        rand = random.uniform(0, 1)\n",
    "        dest_picked = None\n",
    "        cumulative_sum.append(0)\n",
    "\n",
    "        for i in range(0, len(cumulative_sum)-1):\n",
    "            p = cumulative_sum[i]\n",
    "            nextp = cumulative_sum[i+1] if not np.isnan(cumulative_sum[i+1]) else cumulative_sum[i+2] if not np.isnan(cumulative_sum[i+2]) else cumulative_sum[i+3]\n",
    "        \n",
    "            if not np.isnan(p) and rand <= p and rand >= nextp:\n",
    "                dest_picked = i\n",
    "\n",
    "        self.current_pos = dest_picked\n",
    "        self.add_to_path_history(self.current_pos)"
   ]
  },
  {
   "cell_type": "code",
   "execution_count": 18,
   "metadata": {},
   "outputs": [],
   "source": [
    "RHO = 0.8\n",
    "Q = 1\n",
    "\n",
    "class ACO():\n",
    "    def __init__(self, graph, start: int, vizualizator: VRPVisualizator) -> None:\n",
    "        self.graph = graph\n",
    "        self.start = start\n",
    "        self.vizualizator = vizualizator\n",
    "        self.all_paths = []\n",
    "        self.pheromones = np.ones(graph.shape)\n",
    "        #self.vizualizator.set_pheromones(self.pheromones)\n",
    "\n",
    "    def run(self, iter: int) -> list:\n",
    "        for i in range(iter):\n",
    "            paths = self.launch_ants(40)\n",
    "            for path in paths:\n",
    "                self.all_paths.append(path)\n",
    "            self.update_pheromones(paths)\n",
    "        final_path = self.get_final_path(self.all_paths)\n",
    "        self.vizualizator.set_path(final_path)\n",
    "        return final_path\n",
    "\n",
    "    def launch_ants(self, amount: int) -> list:\n",
    "        paths = []\n",
    "        ants = [Ant(self.start, self.vizualizator) for i in range(amount)]\n",
    "        for ant in ants:\n",
    "            while ant.can_continue:\n",
    "                ant.move(self.graph[ant.current_pos], self.pheromones[ant.current_pos])\n",
    "            paths.append(ant.path_history)\n",
    "        return paths\n",
    "\n",
    "    def update_pheromones(self, paths: list) -> None:\n",
    "        #Evaporation\n",
    "        self.pheromones *= 1 - RHO\n",
    "        #New pheromones\n",
    "        for path in paths:\n",
    "            total_distance = self.calc_total_distance(path)\n",
    "            for i in range(len(path)-1):\n",
    "                cur_path = path[i]\n",
    "                next_path = path[i+1]\n",
    "                self.pheromones[cur_path][next_path] += Q / total_distance\n",
    "                self.pheromones[next_path][cur_path] += Q / total_distance\n",
    "        #self.vizualizator.set_pheromones(self.pheromones)\n",
    "\n",
    "    def calc_total_distance(self, full_path: list) -> float:\n",
    "        distance = 0\n",
    "        for i in range(len(full_path)-1):\n",
    "            cur_path = full_path[i]\n",
    "            next_path = full_path[i+1]\n",
    "            distance += self.graph[cur_path][next_path]\n",
    "        return distance\n",
    "\n",
    "    def get_final_path(self, paths: list) -> list:\n",
    "        best_path = paths[0]\n",
    "        best_i = 0\n",
    "        lowest_distance = self.calc_total_distance(paths[0])\n",
    "        for i, p in enumerate(paths):\n",
    "            distance = self.calc_total_distance(p)\n",
    "            if distance <= lowest_distance:\n",
    "                best_path = p\n",
    "                lowest_distance = distance\n",
    "                best_i = i\n",
    "        print(lowest_distance)\n",
    "        print(best_i)\n",
    "        print(len(paths))\n",
    "        print('count:', paths.count(best_path) + paths.count(reversed(best_path)))\n",
    "        return best_path\n"
   ]
  },
  {
   "cell_type": "code",
   "execution_count": 19,
   "metadata": {
    "tags": []
   },
   "outputs": [
    {
     "output_type": "stream",
     "name": "stdout",
     "text": [
      "7384.71702314709\n665\n3200\ncount: 1\n[0, 8, 17, 1, 18, 5, 6, 16, 13, 14, 7, 4, 3, 19, 9, 11, 2, 15, 10, 12, 0]\n82.43549942970276\n"
     ]
    }
   ],
   "source": [
    "aco = ACO(graph, 0, vizu)\n",
    "start = time.time()\n",
    "path = aco.run(80)\n",
    "print(path)\n",
    "print(time.time()-start)"
   ]
  },
  {
   "cell_type": "code",
   "execution_count": null,
   "metadata": {},
   "outputs": [],
   "source": []
  }
 ],
 "metadata": {
  "interpreter": {
   "hash": "1e4bf0d0c073412875ddf3584207195b872584d0a95affc545c0e70c83c1111c"
  },
  "kernelspec": {
   "name": "python3",
   "display_name": "Python 3.8.10 64-bit ('Project': conda)"
  },
  "language_info": {
   "codemirror_mode": {
    "name": "ipython",
    "version": 3
   },
   "file_extension": ".py",
   "mimetype": "text/x-python",
   "name": "python",
   "nbconvert_exporter": "python",
   "pygments_lexer": "ipython3",
   "version": "3.8.10"
  }
 },
 "nbformat": 4,
 "nbformat_minor": 4
}