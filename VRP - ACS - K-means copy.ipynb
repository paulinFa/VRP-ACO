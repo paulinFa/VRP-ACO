{
 "cells": [
  {
   "cell_type": "code",
   "execution_count": 1,
   "metadata": {},
   "outputs": [
    {
     "output_type": "stream",
     "name": "stdout",
     "text": [
      "pygame 2.0.1 (SDL 2.0.14, Python 3.8.10)\nHello from the pygame community. https://www.pygame.org/contribute.html\n"
     ]
    }
   ],
   "source": [
    "from __future__ import annotations\n",
    "import numpy as np\n",
    "import matplotlib.pyplot as plt\n",
    "import random\n",
    "import time\n",
    "from typing import List\n",
    "from statistics import mean\n",
    "from dataclasses import dataclass\n",
    "from pygame_visualization import VRPVisualizator\n",
    "from copy import deepcopy"
   ]
  },
  {
   "cell_type": "code",
   "execution_count": 2,
   "metadata": {},
   "outputs": [],
   "source": [
    "GRAPH_SIZE = 5\n",
    "X_MIN = -600\n",
    "X_MAX = 600\n",
    "Y_MIN = -400\n",
    "Y_MAX = 400\n",
    "MIN_DISTANCE_BETWEEN_POINTS = 0.4\n",
    "VIZU_SCALING = 0.5\n",
    "K_TRUCKS = 1\n",
    "K_MEANS_SLEEP = 0"
   ]
  },
  {
   "cell_type": "code",
   "execution_count": 3,
   "metadata": {},
   "outputs": [],
   "source": [
    "vizu = VRPVisualizator()\n",
    "vizu.set_scaling(VIZU_SCALING)"
   ]
  },
  {
   "cell_type": "code",
   "execution_count": 4,
   "metadata": {},
   "outputs": [],
   "source": [
    "def manhattan(a, b):\n",
    "    return sum(abs(val1-val2) for val1, val2 in zip(a,b))"
   ]
  },
  {
   "cell_type": "code",
   "execution_count": 5,
   "metadata": {},
   "outputs": [],
   "source": [
    "def euclidian(a, b):\n",
    "    a = np.array(a)\n",
    "    b = np.array(b)\n",
    "    return np.linalg.norm(a-b)"
   ]
  },
  {
   "cell_type": "code",
   "execution_count": 6,
   "metadata": {},
   "outputs": [],
   "source": [
    "random.seed(42)\n",
    "def generate_coordinates(n_nodes: int, x_coords_range, y_coords_range, min_distance: float):\n",
    "    generated_coords = [(0, 0)]\n",
    "    vizu.add_node(0, 0)\n",
    "    for i in range(n_nodes - 1):\n",
    "        is_ok = False\n",
    "        while not is_ok:\n",
    "            coord = (random.uniform(*x_coords_range), random.uniform(*y_coords_range))\n",
    "            is_ok = True\n",
    "            for node in generated_coords:\n",
    "                if euclidian(coord, node) < min_distance:\n",
    "                    is_ok = False\n",
    "        generated_coords.append(coord)\n",
    "        vizu.add_node(coord[0], coord[1])\n",
    "    return generated_coords"
   ]
  },
  {
   "cell_type": "code",
   "execution_count": 7,
   "metadata": {},
   "outputs": [],
   "source": [
    "points = generate_coordinates(GRAPH_SIZE, (X_MIN, X_MAX), (Y_MIN, Y_MAX), MIN_DISTANCE_BETWEEN_POINTS)\n",
    "random.seed()"
   ]
  },
  {
   "cell_type": "markdown",
   "metadata": {},
   "source": [
    "# K-means clustering\n",
    "\n",
    "## 1- k-means++ centroids selection"
   ]
  },
  {
   "cell_type": "code",
   "execution_count": 8,
   "metadata": {},
   "outputs": [],
   "source": [
    "def select_initial_centroids(points: list, k: int, display) -> list:\n",
    "    vizu.clear_centroids_and_color()\n",
    "    #Initialize list of centroids with a first random chosen one.\n",
    "    first_centroid = list(random.choice(points))\n",
    "    vizu.add_centroid(first_centroid)\n",
    "    centroids = [first_centroid]\n",
    "    for i_centroid in range(k - 1):\n",
    "        print('GENERATED:', i_centroid)\n",
    "        #Store minimum distances of each points to a centroid.\n",
    "        all_distances = []\n",
    "        for i_point, point in enumerate(points):\n",
    "            min_distance = float('inf')\n",
    "            best_i_centroid = 0\n",
    "            #Compute the lowest distance to a previously selected\n",
    "            #centroid from this point.\n",
    "            for i_centroid in range(len(centroids)):\n",
    "                distance = manhattan(point, centroids[i_centroid])\n",
    "                if distance < min_distance:\n",
    "                    min_distance = distance\n",
    "                    best_i_centroid = i_centroid\n",
    "\n",
    "            vizu.bind_to_centroid(i_point, best_i_centroid)\n",
    "            if display:\n",
    "                vizu.add_centroid_line(point, centroids[best_i_centroid])\n",
    "                time.sleep(K_MEANS_SLEEP)\n",
    "            all_distances.append(min_distance)\n",
    "        \n",
    "        #Select the point with maximum distance as our new centroid\n",
    "        next_centroid = list(points[np.argmax(np.array(all_distances))])\n",
    "        centroids.append(next_centroid)\n",
    "        vizu.add_centroid(next_centroid)\n",
    "        vizu.clear_centroid_lines()\n",
    "    return centroids"
   ]
  },
  {
   "cell_type": "code",
   "execution_count": 9,
   "metadata": {},
   "outputs": [],
   "source": [
    "@dataclass\n",
    "class SubPoint():\n",
    "    global_index: int\n",
    "    coordinates: tuple\n",
    "\n",
    "def calc_centroid(points):\n",
    "    points = np.array(points)\n",
    "    length = points.shape[0]\n",
    "    sum_x = np.sum(points[:, 0])\n",
    "    sum_y = np.sum(points[:, 1])\n",
    "    return [sum_x/length, sum_y/length]\n",
    "\n",
    "def generate_clusters(points, centroids, display) -> List[List[SubPoint]]:\n",
    "    centroids_childs = dict()\n",
    "    centroid_changed = True\n",
    "\n",
    "    while centroid_changed:\n",
    "        for i in range(len(centroids)):\n",
    "            centroids_childs[i] = []\n",
    "\n",
    "        for i_point, point in enumerate(points):\n",
    "            #Get the closest centroid\n",
    "            min_distance = float('inf')\n",
    "            best_i_centroid = 0\n",
    "            for i_centroid in range(len(centroids)):\n",
    "                distance = manhattan(point, centroids[i_centroid])\n",
    "                if distance < min_distance:\n",
    "                    best_i_centroid = i_centroid\n",
    "                    min_distance = distance\n",
    "\n",
    "            #Create subpoint to keep track of the global index of the node\n",
    "            #Global index is i+1 because i = 0 = depot\n",
    "            subpoint = SubPoint(i_point + 1, point)\n",
    "            centroids_childs[best_i_centroid].append(subpoint)\n",
    "            vizu.bind_to_centroid(i_point, best_i_centroid)\n",
    "            if display:\n",
    "                vizu.add_centroid_line(point, centroids[best_i_centroid])\n",
    "                time.sleep(K_MEANS_SLEEP)\n",
    "\n",
    "        if display:\n",
    "            vizu.clear_centroid_lines()\n",
    "        centroid_changed = False\n",
    "        #Update centroids values\n",
    "        for i_centroid, centroid in enumerate(centroids):\n",
    "            childs_coordinates = [subpoint.coordinates for subpoint in centroids_childs[i_centroid]]\n",
    "            new_centroid_value = calc_centroid(childs_coordinates)\n",
    "            if new_centroid_value != centroid:\n",
    "                centroid_changed = True\n",
    "                centroid[0] = new_centroid_value[0]\n",
    "                centroid[1] = new_centroid_value[1]\n",
    "    vizu.clear_centroids()\n",
    "    clusters = [centroids_childs[centroid] for centroid in centroids_childs.keys()]\n",
    "    return clusters"
   ]
  },
  {
   "cell_type": "code",
   "execution_count": 10,
   "metadata": {},
   "outputs": [],
   "source": [
    "def generate_distance_matrix(points: list):\n",
    "    length = len(points)\n",
    "    matrix = np.empty((length, length))\n",
    "    matrix[:] = np.nan\n",
    "    for i in range(length):\n",
    "        for j in range(length):\n",
    "            if i != j:\n",
    "                dist = euclidian(points[i], points[j])\n",
    "                matrix[i][j] = dist\n",
    "                matrix[j][i] = dist\n",
    "    return matrix\n",
    "\n",
    "def generate_graphs_from_clusters(clusters):\n",
    "    graphs = []\n",
    "    for cluster in clusters:\n",
    "        #Start by adding the depot point\n",
    "        points_coordinates = [points[0]]\n",
    "        points_indexes = [0]\n",
    "        for subpoint in cluster:\n",
    "            points_coordinates.append(subpoint.coordinates)\n",
    "            points_indexes.append(subpoint.global_index)\n",
    "        distance_matrix = generate_distance_matrix(points_coordinates)\n",
    "        graphs.append((points_indexes, distance_matrix))\n",
    "    return graphs"
   ]
  },
  {
   "cell_type": "code",
   "execution_count": 11,
   "metadata": {
    "tags": []
   },
   "outputs": [
    {
     "output_type": "stream",
     "name": "stdout",
     "text": [
      "([0, 1, 2, 3, 4], array([[         nan, 415.19491707, 349.16023834, 317.02581638,\n        575.04384972],\n       [415.19491707,          nan, 465.13699391, 534.198672  ,\n        307.32289426],\n       [349.16023834, 465.13699391,          nan, 661.99284487,\n        748.56128687],\n       [317.02581638, 534.198672  , 661.99284487,          nan,\n        507.46055485],\n       [575.04384972, 307.32289426, 748.56128687, 507.46055485,\n                 nan]]))\n"
     ]
    }
   ],
   "source": [
    "points_without_0 = list(points)\n",
    "points_without_0.pop(0)\n",
    "centroids = select_initial_centroids(points_without_0, K_TRUCKS, False)\n",
    "clusters = generate_clusters(points_without_0, centroids, False)\n",
    "graphs = generate_graphs_from_clusters(clusters)\n",
    "vizu.draw()\n",
    "print(graphs[0])"
   ]
  },
  {
   "cell_type": "code",
   "execution_count": 12,
   "metadata": {},
   "outputs": [],
   "source": [
    "class ALGO_neightbours():\n",
    "    def __init__(self, graph, start: int) -> None:\n",
    "        self.graph = deepcopy(graph)\n",
    "        self.start = start\n",
    "        self.best_length = 0\n",
    "        self.current_node = 0\n",
    "        self.path_history = [0]\n",
    "\n",
    "    def run(self) -> list:   \n",
    "        while len(self.path_history) < (len(self.graph)):\n",
    "            actual_graph = self.graph[self.current_node]\n",
    "            for i in self.path_history:\n",
    "                actual_graph[i] = float(\"inf\")\n",
    "            min_distance = np.nanmin(actual_graph)\n",
    "            next_node = np.where(actual_graph == min_distance)[0][0]\n",
    "            self.path_history.append(next_node)\n",
    "            self.current_node = next_node\n",
    "            self.best_length += min_distance\n",
    "        \n",
    "        self.path_history.append(0)\n",
    "        self.best_length += self.graph[self.current_node][0]\n",
    "        return self.best_length,self.path_history    "
   ]
  },
  {
   "cell_type": "code",
   "execution_count": 13,
   "metadata": {},
   "outputs": [],
   "source": [
    "#Evaporation factor for global update of pheromones\n",
    "RHO = 0.1\n",
    "#Evaporation factor for local update of pheromones\n",
    "KAPPA = RHO\n",
    "#Q\n",
    "OMICRON = 1\n",
    "#Impact of pheromones\n",
    "ALPHA = 1\n",
    "#Impact of weights\n",
    "BETA = 2\n",
    "#Initial pheromones\n",
    "TAU = 1\n",
    "#Exploration/exploitation trade off\n",
    "EPSILON = 0.9"
   ]
  },
  {
   "cell_type": "code",
   "execution_count": 14,
   "metadata": {},
   "outputs": [],
   "source": [
    "class Ant():\n",
    "    def __init__(self, graph, real_nodes_indexes, initial_tau, init_pos: int, vizualizator: VRPVisualizator) -> None:\n",
    "        self.real_nodes_indexes = real_nodes_indexes\n",
    "        self.initial_tau = initial_tau\n",
    "        self.init_pos = init_pos\n",
    "        self.vizualizator = vizualizator\n",
    "        self.current_pos = init_pos\n",
    "        self.path_history = [init_pos]\n",
    "        self.unvisited_nodes = dict()\n",
    "        self.can_continue = True\n",
    "\n",
    "    def add_to_path_history(self, node) -> None:\n",
    "        self.path_history.append(node)\n",
    "        self.unvisited_nodes.pop(node, default=None)\n",
    "        if self.vizualizator:\n",
    "            self.vizualizator.set_path(self.get_real_path(self.path_history))\n",
    "\n",
    "    def move(self, dest: list, pheromones: list) -> None:\n",
    "        choice = random.uniform(0, 1)\n",
    "\n",
    "\n",
    "\n",
    "\n",
    "        if choice <= EPSILON:\n",
    "            dest_picked = self.exploitation(dest, pheromones[self.current_pos])\n",
    "        else:\n",
    "            dest_picked = self.biased_exploration(dest, pheromones[self.current_pos])\n",
    "\n",
    "        if dest_picked is None:\n",
    "            self.add_to_path_history(self.init_pos)\n",
    "            self.can_continue = False\n",
    "            return\n",
    "\n",
    "        self.update_pheromones_locally(pheromones, dest_picked)\n",
    "        self.current_pos = dest_picked\n",
    "        self.add_to_path_history(self.current_pos)\n",
    "\n",
    "    def exploitation(self, dest: list, pheromones: list) -> int:\n",
    "        current_best_viability = None\n",
    "        current_best_dest = None\n",
    "        for i in range(len(dest)):\n",
    "            if not np.isnan(dest[i]) and i not in self.path_history:\n",
    "                viability = pheromones[i] * (1 / dest[i])**BETA\n",
    "                if not current_best_viability or viability > current_best_viability:\n",
    "                    current_best_viability = viability\n",
    "                    current_best_dest = i\n",
    "        return current_best_dest\n",
    "\n",
    "    def biased_exploration(self, dest: list, pheromones: list) -> int:\n",
    "        probabilities = []\n",
    "        denominator = 0\n",
    "        \n",
    "        #Calculate the denominator first\n",
    "        for i in range(len(dest)):\n",
    "            if not np.isnan(dest[i]) and i not in self.path_history:\n",
    "                denominator += pheromones[i] * (1/dest[i])**BETA\n",
    "\n",
    "        #Calculate probabilities of picking one path\n",
    "        for node, length in enumerate(dest):\n",
    "            if node in self.path_history:\n",
    "                probabilities.append(0)\n",
    "            elif not np.isnan(dest[node]):\n",
    "                nominator = pheromones[node] * (1/dest[node])**BETA\n",
    "                probabilities.append(nominator / denominator)\n",
    "            else:\n",
    "                probabilities.append(np.nan)\n",
    "        \n",
    "        #If there is no path available return false\n",
    "        if np.nansum(probabilities) == 0:\n",
    "            return None\n",
    "\n",
    "        #Roulette wheel\n",
    "        cumulative_sum = []\n",
    "        for i in range(len(probabilities)):\n",
    "            if np.isnan(probabilities[i]):\n",
    "                cumulative_sum.append(np.nan)\n",
    "            elif np.nansum(cumulative_sum) == 0:\n",
    "                cumulative_sum.append(1.0)\n",
    "            else:\n",
    "                cumulative_sum.append(np.nansum(probabilities[i:len(probabilities)]))\n",
    "        \n",
    "        #Pick a destination\n",
    "        rand = random.uniform(0, 1)\n",
    "        dest_picked = None\n",
    "        cumulative_sum.append(0)\n",
    "\n",
    "        for i in range(0, len(cumulative_sum)-1):\n",
    "            p = cumulative_sum[i]\n",
    "            nextp = cumulative_sum[i+1] if not np.isnan(cumulative_sum[i+1]) else cumulative_sum[i+2] if not np.isnan(cumulative_sum[i+2]) else cumulative_sum[i+3]\n",
    "        \n",
    "            if not np.isnan(p) and rand <= p and rand >= nextp:\n",
    "                dest_picked = i\n",
    "        return dest_picked\n",
    "\n",
    "    def update_pheromones_locally(self, pheromones: list, dest: int) -> None:\n",
    "        #Apply the ACS local updating rule\n",
    "        #evaporate\n",
    "        new_value = pheromones[self.current_pos][dest] * (1 - RHO)\n",
    "        pheromones[self.current_pos][dest] = max(new_value, self.initial_tau)\n",
    "        pheromones[dest][self.current_pos] = max(new_value, self.initial_tau)\n",
    "        \n",
    "        pheromones[self.current_pos][dest] += RHO * self.initial_tau\n",
    "        pheromones[dest][self.current_pos] += RHO * self.initial_tau\n",
    "    \n",
    "    def get_real_node_index(self, index):\n",
    "        return self.real_nodes_indexes[index]\n",
    "\n",
    "    def get_real_path(self, path):\n",
    "        real_path = []\n",
    "        for n in path:\n",
    "            real_path.append(self.get_real_node_index(n))\n",
    "        return real_path"
   ]
  },
  {
   "cell_type": "code",
   "execution_count": 15,
   "metadata": {},
   "outputs": [],
   "source": [
    "class ACO():\n",
    "    def __init__(self, graph, real_nodes_indexes, start: int, vizualizator: VRPVisualizator = None) -> None:\n",
    "        self.graph = graph\n",
    "        self.real_nodes_indexes = real_nodes_indexes\n",
    "        self.start = start\n",
    "        self.vizualizator = vizualizator\n",
    "        self.current_best_path = None\n",
    "        self.current_best_length =  float('inf')\n",
    "        algo_neighbOURS = ALGO_neightbours(graph, 0)\n",
    "        length, path = algo_neighbOURS.run()\n",
    "        self.initial_tau = (length*30)**-1\n",
    "        #print('TAU:', self.initial_tau)\n",
    "        self.pheromones = np.full(graph.shape, self.initial_tau)\n",
    "\n",
    "    def run(self, iter: int) -> list:\n",
    "        for i in range(iter):\n",
    "            #print('Tour:', i)\n",
    "            self.tour_construction(10)\n",
    "            self.global_update_pheromones()\n",
    "        real_best_path = self.get_real_path(self.current_best_path)\n",
    "        if self.vizualizator:\n",
    "            self.vizualizator.add_path(real_best_path)\n",
    "            self.vizualizator.clear_current_path()\n",
    "        #print('Best:', real_best_path)\n",
    "        #print('Length:', self.current_best_length)\n",
    "        return real_best_path, self.current_best_length\n",
    "\n",
    "    def tour_construction(self, ant_amount: int) -> None:\n",
    "        ants = [Ant(self.real_nodes_indexes, self.initial_tau, random.randint(0, len(self.real_nodes_indexes)-1), self.vizualizator) for i in range(ant_amount)]\n",
    "        while ants:\n",
    "            for ant in ants:\n",
    "                if ant.can_continue:\n",
    "                    ant.move(self.graph[ant.current_pos], self.pheromones)\n",
    "                else:\n",
    "                    self.update_current_best(ant.path_history)\n",
    "                    ants.remove(ant)\n",
    "\n",
    "    def update_current_best(self, path):\n",
    "        path_length = self.calc_total_distance(path)\n",
    "        if path_length < self.current_best_length:\n",
    "            #print('NEW BEST:', path)\n",
    "            print('BEST LENGTH:', path_length)\n",
    "            self.current_best_path = path\n",
    "            self.current_best_length = path_length\n",
    "\n",
    "    def global_update_pheromones(self) -> None:\n",
    "        length = len(self.pheromones[0])\n",
    "        #Evaporation\n",
    "        for i in range(length):\n",
    "            for j in range(length):\n",
    "                new_value = self.pheromones[i][j] * (1 - RHO)\n",
    "                self.pheromones[i][j] = max(new_value, self.initial_tau)\n",
    "\n",
    "        #New pheromones\n",
    "        for i in range(len(self.current_best_path)-1):\n",
    "            current_node = self.current_best_path[i]\n",
    "            next_node = self.current_best_path[i+1]\n",
    "            self.pheromones[current_node][next_node] += RHO * (KAPPA / self.current_best_length)\n",
    "            self.pheromones[next_node][current_node] += RHO * (KAPPA / self.current_best_length)\n",
    "\n",
    "    def calc_total_distance(self, full_path: list) -> float:\n",
    "        distance = 0\n",
    "        for i in range(len(full_path)-1):\n",
    "            cur_path = full_path[i]\n",
    "            next_path = full_path[i+1]\n",
    "            distance += self.graph[cur_path][next_path]\n",
    "        return distance\n",
    "    \n",
    "    def get_real_node_index(self, index):\n",
    "        return self.real_nodes_indexes[index]\n",
    "\n",
    "    def get_real_path(self, path):\n",
    "        real_path = []\n",
    "        for n in path:\n",
    "            real_path.append(self.get_real_node_index(n))\n",
    "        return real_path"
   ]
  },
  {
   "cell_type": "code",
   "execution_count": 16,
   "metadata": {},
   "outputs": [],
   "source": [
    "def get_dataset_graph(dataset):\n",
    "    points = []\n",
    "    points_indices = []\n",
    "    with open(dataset+'.txt', 'r') as file:\n",
    "        i = 0\n",
    "        for line in file.readlines():\n",
    "            x, y = line.split(',')\n",
    "            x = float(x)\n",
    "            y = float(y)\n",
    "            points.append((float(x), float(y)))\n",
    "            points_indices.append(i)\n",
    "            i += 1\n",
    "            vizu.add_node(float(x), float(y))\n",
    "    return points_indices, generate_distance_matrix(points)"
   ]
  },
  {
   "cell_type": "code",
   "execution_count": 17,
   "metadata": {},
   "outputs": [],
   "source": [
    "def oliver_30():\n",
    "    vizu = VRPVisualizator()\n",
    "    oliver30 = get_dataset_graph('oliver30')\n",
    "    vizu.clear_paths()\n",
    "    alls_dists = []\n",
    "    start = time.time()\n",
    "    for i in range(1):\n",
    "        print('iter:', i)\n",
    "        aco = ACO(oliver30[1], oliver30[0], 0)\n",
    "        path, distance = aco.run(2500)\n",
    "        alls_dists.append(distance)\n",
    "    print('TOTAL TIME:', time.strftime('%H:%M:%S', time.gmtime(time.time()-start)))\n",
    "    #vizu.add_path(path)\n",
    "    print('MEAN:', mean(alls_dists))"
   ]
  },
  {
   "cell_type": "code",
   "execution_count": 18,
   "metadata": {
    "tags": []
   },
   "outputs": [
    {
     "output_type": "stream",
     "name": "stdout",
     "text": [
      "iter: 0\n",
      "BEST LENGTH: 606.7954900699758\n",
      "BEST LENGTH: 529.701554032454\n",
      "BEST LENGTH: 498.68687418765035\n",
      "BEST LENGTH: 477.9713697277211\n",
      "BEST LENGTH: 469.63914217245326\n",
      "BEST LENGTH: 465.2904191142381\n",
      "BEST LENGTH: 442.2894796750006\n",
      "BEST LENGTH: 441.2873524698475\n",
      "BEST LENGTH: 440.20303075447674\n",
      "BEST LENGTH: 435.5183541606313\n",
      "BEST LENGTH: 434.221441653118\n",
      "BEST LENGTH: 434.22144165311795\n",
      "BEST LENGTH: 434.15928452428204\n",
      "BEST LENGTH: 429.906676464994\n",
      "BEST LENGTH: 429.9066764649939\n",
      "BEST LENGTH: 426.6002276374536\n",
      "BEST LENGTH: 426.60022763745354\n",
      "BEST LENGTH: 426.60022763745343\n",
      "BEST LENGTH: 426.54384791848247\n",
      "BEST LENGTH: 424.6353956578833\n",
      "BEST LENGTH: 424.63539565788324\n",
      "BEST LENGTH: 423.91168832847706\n",
      "BEST LENGTH: 423.911688328477\n",
      "TOTAL TIME: 00:03:33\n",
      "MEAN: 423.911688328477\n"
     ]
    }
   ],
   "source": [
    "oliver_30()"
   ]
  },
  {
   "cell_type": "code",
   "execution_count": null,
   "metadata": {},
   "outputs": [],
   "source": []
  },
  {
   "cell_type": "code",
   "execution_count": 19,
   "metadata": {
    "tags": []
   },
   "outputs": [
    {
     "output_type": "stream",
     "name": "stdout",
     "text": [
      "BEST LENGTH: 2450.0977594504234\n",
      "BEST LENGTH: 1946.1064977351168\n",
      "BEST LENGTH: 1946.1064977351166\n",
      "TOTAL TIME: 00:00:00\n"
     ]
    }
   ],
   "source": [
    "vizu.clear_paths()\n",
    "result_paths = []\n",
    "result_distances = []\n",
    "start = time.time()\n",
    "for graph in graphs:\n",
    "    aco = ACO(graph[1], graph[0], 0)\n",
    "    path, distance = aco.run(50)\n",
    "    vizu.add_path(path)\n",
    "    result_paths.append(path)\n",
    "    result_distances.append(distance)\n",
    "print('TOTAL TIME:', time.strftime('%H:%M:%S', time.gmtime(time.time()-start)))\n"
   ]
  },
  {
   "cell_type": "code",
   "execution_count": 20,
   "metadata": {
    "tags": []
   },
   "outputs": [
    {
     "output_type": "stream",
     "name": "stdout",
     "text": [
      "TOTAL DISTANCE: 1946.1064977351166\nPATHS: [[1, 4, 3, 0, 2, 1]]\n"
     ]
    }
   ],
   "source": [
    "print('TOTAL DISTANCE:', sum(result_distances))\n",
    "print('PATHS:', result_paths)"
   ]
  },
  {
   "cell_type": "code",
   "execution_count": 21,
   "metadata": {},
   "outputs": [],
   "source": [
    "vizu.clear_paths()\n",
    "for path in result_paths:\n",
    "    vizu.add_path(path)"
   ]
  },
  {
   "cell_type": "code",
   "execution_count": null,
   "metadata": {},
   "outputs": [],
   "source": []
  }
 ],
 "metadata": {
  "interpreter": {
   "hash": "1e4bf0d0c073412875ddf3584207195b872584d0a95affc545c0e70c83c1111c"
  },
  "kernelspec": {
   "name": "python3",
   "display_name": "Python 3.8.10 64-bit ('Project': conda)"
  },
  "language_info": {
   "codemirror_mode": {
    "name": "ipython",
    "version": 3
   },
   "file_extension": ".py",
   "mimetype": "text/x-python",
   "name": "python",
   "nbconvert_exporter": "python",
   "pygments_lexer": "ipython3",
   "version": "3.8.10"
  }
 },
 "nbformat": 4,
 "nbformat_minor": 4
}