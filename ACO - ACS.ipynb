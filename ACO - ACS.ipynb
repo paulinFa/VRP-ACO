{
 "cells": [
  {
   "cell_type": "code",
   "execution_count": 1,
   "metadata": {},
   "outputs": [
    {
     "output_type": "stream",
     "name": "stdout",
     "text": [
      "pygame 2.0.1 (SDL 2.0.14, Python 3.8.10)\nHello from the pygame community. https://www.pygame.org/contribute.html\n"
     ]
    }
   ],
   "source": [
    "import numpy as np\n",
    "import networkx as nx\n",
    "import matplotlib.pyplot as plt\n",
    "import functools\n",
    "import random\n",
    "import time\n",
    "import random\n",
    "from pygame_visualization import VRPVisualizator"
   ]
  },
  {
   "cell_type": "code",
   "execution_count": 5,
   "metadata": {},
   "outputs": [],
   "source": [
    "vizu = VRPVisualizator()"
   ]
  },
  {
   "cell_type": "code",
   "execution_count": 2,
   "metadata": {},
   "outputs": [],
   "source": [
    "def manhattan(a, b):\n",
    "    return sum(abs(val1-val2) for val1, val2 in zip(a,b))"
   ]
  },
  {
   "cell_type": "code",
   "execution_count": 3,
   "metadata": {},
   "outputs": [],
   "source": [
    "def generate_coordinates(n_nodes: int, x_coords_range, y_coords_range, min_distance: float):\n",
    "    generated_coords = [(0, 0)]\n",
    "    vizu.add_node(0, 0)\n",
    "    for i in range(n_nodes - 1):\n",
    "        is_ok = False\n",
    "        while not is_ok:\n",
    "            coord = (random.uniform(*x_coords_range), random.uniform(*y_coords_range))\n",
    "            is_ok = True\n",
    "            for node in generated_coords:\n",
    "                if manhattan(coord, node) < min_distance:\n",
    "                    is_ok = False\n",
    "        generated_coords.append(coord)\n",
    "        vizu.add_node(coord[0], coord[1])\n",
    "    return generated_coords"
   ]
  },
  {
   "cell_type": "code",
   "execution_count": 4,
   "metadata": {},
   "outputs": [],
   "source": [
    "def generate_graph_matrix(length: int):\n",
    "    coords = generate_coordinates(length, (-600, 600), (-400, 400), 100)\n",
    "    matrix = np.empty((length, length))\n",
    "    matrix[:] = np.nan\n",
    "    for i in range(length):\n",
    "        for j in range(length):\n",
    "            if i != j:\n",
    "                dist = manhattan(coords[i], coords[j])\n",
    "                matrix[i][j] = dist\n",
    "                matrix[j][i] = dist\n",
    "    return matrix"
   ]
  },
  {
   "cell_type": "code",
   "execution_count": 6,
   "metadata": {},
   "outputs": [],
   "source": [
    "vizu.clear_nodes()\n",
    "graph = generate_graph_matrix(20)"
   ]
  },
  {
   "cell_type": "code",
   "execution_count": 7,
   "metadata": {},
   "outputs": [],
   "source": [
    "vizu.set_scaling(1.3)"
   ]
  },
  {
   "cell_type": "code",
   "execution_count": 8,
   "metadata": {},
   "outputs": [
    {
     "output_type": "stream",
     "name": "stdout",
     "text": [
      "[[          nan  233.58963182  592.21298493  320.44367518  347.99977606\n   682.90280612  509.15479166  597.27759789  127.07813415  698.1059641\n   431.18105904  704.82711797  724.49205179  103.94582426  319.17581109\n   433.44176712  500.83597188  308.27313502  176.8273828   459.5995573 ]\n [ 233.58963182           nan  482.39763625  430.25902387  581.58940788\n   916.49243794  742.74442348  830.86722971  106.51149767  588.29061541\n   540.99640773  938.4167498   614.6767031   302.5181944   505.89776417\n   543.25711581  734.4256037   418.08848371  296.89317576  226.00992548]\n [ 592.21298493  482.39763625           nan  912.65666012  903.31761819\n  1238.22064825 1064.47263379 1152.59544002  533.19183574  628.20476893\n  1023.39404397 1260.1449601   185.11469067  696.1588092   827.62597447\n  1025.65475205 1056.15381401  900.48611995  618.62138606  478.32161102]\n [ 320.44367518  430.25902387  912.65666012           nan  465.61723842\n   796.29474884  622.54673438  710.66954062  379.46482438 1018.54963928\n   186.65375686  818.2190607  1044.93572697  216.49785092  639.61948627\n   238.98397362  614.2279146   109.73122514  497.27105798  434.3350491 ]\n [ 347.99977606  581.58940788  903.31761819  465.61723842           nan\n   492.56126657  599.75400531  249.27782183  475.07791021  552.93240086\n   576.35462228  356.82734192  718.20292752  279.07121348  174.00224785\n   700.3756924   152.83619582  453.44669826  284.69623212  807.59933336]\n [ 682.90280612  916.49243794 1238.22064825  796.29474884  492.56126657\n            nan  173.74801446  305.3985035   809.98094027 1045.49366743\n   609.64099198  366.38588046 1071.87975512  613.97424354  666.56351442\n  1035.27872247  425.21852697  686.56352371  619.59926219 1142.50236342]\n [ 509.15479166  742.74442348 1064.47263379  622.54673438  599.75400531\n   173.74801446           nan  412.59124224  636.23292581 1152.68640617\n   435.89297752  473.57861921 1179.07249386  440.22622908  773.75625316\n   861.530708    532.41126571  512.81550925  631.40782487  968.75434896]\n [ 597.27759789  830.86722971 1152.59544002  710.66954062  249.27782183\n   305.3985035   412.59124224           nan  724.35573204  740.09516393\n   524.01578375  107.54952008  967.48074935  528.34903531  361.16501092\n   949.65351424  119.82002347  600.93831548  533.97405396 1056.87715519]\n [ 127.07813415  106.51149767  533.19183574  379.46482438  475.07791021\n   809.98094027  636.23292581  724.35573204           nan  639.0848149\n   490.20220824  831.90525213  665.47090259  196.00669673  399.3862665\n   492.46291632  627.91410603  367.29428422  190.38167808  332.52142315]\n [ 698.1059641   588.29061541  628.20476893 1018.54963928  552.93240086\n  1045.49366743 1152.68640617  740.09516393  639.0848149            nan\n  1129.28702314  679.10778697  443.09007826  802.05178836  378.93015301\n  1131.54773122  620.27514046 1006.37909912  521.2785813   584.21459019]\n [ 431.18105904  540.99640773 1023.39404397  186.65375686  576.35462228\n   609.64099198  435.89297752  524.01578375  490.20220824 1129.28702314\n            nan  631.56530384 1155.67311083  327.23523478  750.35687013\n   425.63773048  509.01188268  122.90792402  608.00844184  545.07243295]\n [ 704.82711797  938.4167498  1260.1449601   818.2190607   356.82734192\n   366.38588046  473.57861921  107.54952008  831.90525213  679.10778697\n   631.56530384           nan 1075.03026944  635.8985554   432.51898563\n  1057.20303432  203.99114609  708.48783556  641.52357404 1164.42667527]\n [ 724.49205179  614.6767031   185.11469067 1044.93572697  718.20292752\n  1071.87975512 1179.07249386  967.48074935  665.47090259  443.09007826\n  1155.67311083 1075.03026944           nan  828.43787605  642.51128381\n  1157.93381891  871.03912334 1032.76518681  547.66466899  610.60067787]\n [ 103.94582426  302.5181944   696.1588092   216.49785092  279.07121348\n   613.97424354  440.22622908  528.34903531  196.00669673  802.05178836\n   327.23523478  635.8985554   828.43787605           nan  423.12163535\n   421.30447892  431.9074093   204.32731076  280.77320706  528.52811988]\n [ 319.17581109  505.89776417  827.62597447  639.61948627  174.00224785\n   666.56351442  773.75625316  361.16501092  399.3862665   378.93015301\n   750.35687013  432.51898563  642.51128381  423.12163535           nan\n   752.61757821  241.34498745  627.44894611  209.00458841  731.90768965]\n [ 433.44176712  543.25711581 1025.65475205  238.98397362  700.3756924\n  1035.27872247  861.530708    949.65351424  492.46291632 1131.54773122\n   425.63773048 1057.20303432 1157.93381891  421.30447892  752.61757821\n            nan  853.21188823  348.71519876  610.26914992  547.33314103]\n [ 500.83597188  734.4256037  1056.15381401  614.2279146   152.83619582\n   425.21852697  532.41126571  119.82002347  627.91410603  620.27514046\n   509.01188268  203.99114609  871.03912334  431.9074093   241.34498745\n   853.21188823           nan  504.49668947  437.53242795  960.43552918]\n [ 308.27313502  418.08848371  900.48611995  109.73122514  453.44669826\n   686.56352371  512.81550925  600.93831548  367.29428422 1006.37909912\n   122.90792402  708.48783556 1032.76518681  204.32731076  627.44894611\n   348.71519876  504.49668947           nan  485.10051782  455.93883971]\n [ 176.8273828   296.89317576  618.62138606  497.27105798  284.69623212\n   619.59926219  631.40782487  533.97405396  190.38167808  521.2785813\n   608.00844184  641.52357404  547.66466899  280.77320706  209.00458841\n   610.26914992  437.53242795  485.10051782           nan  522.90310123]\n [ 459.5995573   226.00992548  478.32161102  434.3350491   807.59933336\n  1142.50236342  968.75434896 1056.87715519  332.52142315  584.21459019\n   545.07243295 1164.42667527  610.60067787  528.52811988  731.90768965\n   547.33314103  960.43552918  455.93883971  522.90310123           nan]]\n"
     ]
    }
   ],
   "source": [
    "print(graph)"
   ]
  },
  {
   "cell_type": "code",
   "execution_count": 9,
   "metadata": {},
   "outputs": [],
   "source": [
    "#Evaporation factor for global update of pheromones\n",
    "RHO = 0.2\n",
    "#Evaporation factor for local update of pheromones\n",
    "KAPPA = RHO\n",
    "#Q\n",
    "OMICRON = 1\n",
    "#Impact of pheromones\n",
    "ALPHA = 1\n",
    "#Impact of weights\n",
    "BETA = 2\n",
    "#Initial pheromones\n",
    "TAU = 1\n",
    "#Exploration/exploitation trade off\n",
    "EPSILON = 0.5"
   ]
  },
  {
   "cell_type": "code",
   "execution_count": 10,
   "metadata": {},
   "outputs": [],
   "source": [
    "class Ant():\n",
    "    def __init__(self, init_pos: int, vizualizator: VRPVisualizator) -> None:\n",
    "        self.init_pos = init_pos\n",
    "        self.vizualizator = vizualizator\n",
    "        self.current_pos = init_pos\n",
    "        self.path_history = [init_pos]\n",
    "        self.can_continue = True\n",
    "\n",
    "    def add_to_path_history(self, node) -> None:\n",
    "        self.path_history.append(node)\n",
    "        self.vizualizator.set_path(self.path_history)\n",
    "\n",
    "    def move(self, dest: list, pheromones: list) -> None:\n",
    "        choice = random.uniform(0, 1)\n",
    "\n",
    "        if choice <= EPSILON:\n",
    "            dest_picked = self.exploitation(dest, pheromones)\n",
    "        else:\n",
    "            dest_picked = self.biased_exploration(dest, pheromones)\n",
    "\n",
    "        if not dest_picked:\n",
    "            self.add_to_path_history(self.init_pos)\n",
    "            self.can_continue = False\n",
    "            return\n",
    "\n",
    "        self.update_pheromones_locally(pheromones, dest_picked)\n",
    "        self.current_pos = dest_picked\n",
    "        self.add_to_path_history(self.current_pos)\n",
    "\n",
    "    def exploitation(self, dest: list, pheromones: list) -> int:\n",
    "        current_best_viability = None\n",
    "        current_best_dest = None\n",
    "        for i in range(len(dest)):\n",
    "            if not np.isnan(dest[i]) and i not in self.path_history:\n",
    "                viability = pheromones[i] * (KAPPA / dest[i])**BETA\n",
    "                if not current_best_viability or viability > current_best_viability:\n",
    "                    current_best_viability = viability\n",
    "                    current_best_dest = i\n",
    "        return current_best_dest\n",
    "\n",
    "    def biased_exploration(self, dest: list, pheromones: list) -> int:\n",
    "        probabilities = []\n",
    "        denominator = 0\n",
    "        \n",
    "        #Calculate the denominator first\n",
    "        for i in range(len(dest)):\n",
    "            if not np.isnan(dest[i]) and i not in self.path_history:\n",
    "                denominator += pheromones[i]**ALPHA * (KAPPA/dest[i])**BETA\n",
    "\n",
    "        #Calculate probabilities of picking one path\n",
    "        for node, length in enumerate(dest):\n",
    "            if node in self.path_history:\n",
    "                probabilities.append(0)\n",
    "            elif not np.isnan(dest[node]):\n",
    "                nominator = pheromones[node]**ALPHA * (KAPPA/dest[node])**BETA\n",
    "                probabilities.append(nominator / denominator)\n",
    "            else:\n",
    "                probabilities.append(np.nan)\n",
    "        \n",
    "        #If there is no path available return false\n",
    "        if np.nansum(probabilities) == 0:\n",
    "            return None\n",
    "\n",
    "        #Roulette wheel\n",
    "        cumulative_sum = []\n",
    "        for i in range(len(probabilities)):\n",
    "            if np.isnan(probabilities[i]):\n",
    "                cumulative_sum.append(np.nan)\n",
    "            elif np.nansum(cumulative_sum) == 0:\n",
    "                cumulative_sum.append(1.0)\n",
    "            else:\n",
    "                cumulative_sum.append(np.nansum(probabilities[i:len(probabilities)]))\n",
    "        \n",
    "        #Pick a destination\n",
    "        rand = random.uniform(0, 1)\n",
    "        dest_picked = None\n",
    "        cumulative_sum.append(0)\n",
    "\n",
    "        for i in range(0, len(cumulative_sum)-1):\n",
    "            p = cumulative_sum[i]\n",
    "            nextp = cumulative_sum[i+1] if not np.isnan(cumulative_sum[i+1]) else cumulative_sum[i+2] if not np.isnan(cumulative_sum[i+2]) else cumulative_sum[i+3]\n",
    "        \n",
    "            if not np.isnan(p) and rand <= p and rand >= nextp:\n",
    "                dest_picked = i\n",
    "        return dest_picked\n",
    "\n",
    "    def update_pheromones_locally(self, pheromones: list, dest: int) -> None:\n",
    "        #Apply the ACS local updating rule\n",
    "        pheromones[dest] = (1-RHO) * pheromones[dest] + RHO * TAU\n"
   ]
  },
  {
   "cell_type": "code",
   "execution_count": 11,
   "metadata": {},
   "outputs": [],
   "source": [
    "class ACO():\n",
    "    def __init__(self, graph, start: int, vizualizator: VRPVisualizator) -> None:\n",
    "        self.graph = graph\n",
    "        self.start = start\n",
    "        self.vizualizator = vizualizator\n",
    "        self.current_best_path = None\n",
    "        self.current_best_length = None\n",
    "        self.pheromones = np.ones(graph.shape)\n",
    "        #self.vizualizator.set_pheromones(self.pheromones)\n",
    "\n",
    "    def run(self, iter: int) -> list:\n",
    "        for i in range(iter):\n",
    "            print('Tour:', i)\n",
    "            self.tour_construction(15)\n",
    "            self.global_update_pheromones()\n",
    "        self.vizualizator.set_path(self.current_best_path)\n",
    "        print('Best:', self.current_best_path)\n",
    "        print('Length:', self.current_best_length)\n",
    "        return self.current_best_path\n",
    "\n",
    "    def tour_construction(self, ant_amount: int) -> None:\n",
    "        ants = [Ant(self.start, self.vizualizator) for i in range(ant_amount)]\n",
    "        while ants:\n",
    "            for ant in ants:\n",
    "                if ant.can_continue:\n",
    "                    ant.move(self.graph[ant.current_pos], self.pheromones[ant.current_pos])\n",
    "                else:\n",
    "                    self.update_current_best(ant.path_history)\n",
    "                    ants.remove(ant)\n",
    "\n",
    "    def update_current_best(self, path):\n",
    "        path_length = self.calc_total_distance(path)\n",
    "        if not self.current_best_path or path_length < self.current_best_length:\n",
    "            print('NEW BEST:', path)\n",
    "            self.current_best_path = path\n",
    "            self.current_best_length = path_length\n",
    "\n",
    "    def global_update_pheromones(self) -> None:\n",
    "        #Evaporation\n",
    "        self.pheromones *= 1 - RHO\n",
    "        #New pheromones\n",
    "        for i in range(len(self.current_best_path)-1):\n",
    "            current_node = self.current_best_path[i]\n",
    "            next_node = self.current_best_path[i+1]\n",
    "            self.pheromones[current_node][next_node] += RHO * (KAPPA / self.current_best_length)\n",
    "           #self.pheromones[next_node][current_node] += RHO * (KAPPA / self.current_best_length)\n",
    "        #self.vizualizator.set_pheromones(self.pheromones)\n",
    "\n",
    "    def calc_total_distance(self, full_path: list) -> float:\n",
    "        distance = 0\n",
    "        for i in range(len(full_path)-1):\n",
    "            cur_path = full_path[i]\n",
    "            next_path = full_path[i+1]\n",
    "            distance += self.graph[cur_path][next_path]\n",
    "        return distance\n"
   ]
  },
  {
   "cell_type": "code",
   "execution_count": 12,
   "metadata": {
    "tags": []
   },
   "outputs": [
    {
     "output_type": "stream",
     "name": "stdout",
     "text": [
      "Tour: 0\n",
      "NEW BEST: [0, 1, 9, 13, 3, 10, 16, 15, 19, 4, 14, 6, 12, 11, 2, 17, 5, 8, 18, 7, 0]\n",
      "NEW BEST: [0, 1, 9, 19, 4, 14, 18, 7, 3, 10, 13, 15, 16, 12, 11, 2, 5, 8, 17, 6, 0]\n",
      "NEW BEST: [0, 1, 9, 8, 5, 2, 17, 12, 19, 4, 14, 18, 7, 3, 13, 10, 15, 16, 6, 11, 0]\n",
      "Tour: 1\n",
      "Tour: 2\n",
      "NEW BEST: [0, 4, 14, 19, 9, 11, 12, 15, 10, 13, 16, 6, 2, 17, 5, 8, 1, 3, 18, 7, 0]\n",
      "NEW BEST: [0, 1, 9, 19, 4, 14, 2, 17, 5, 8, 7, 18, 3, 10, 13, 15, 16, 6, 12, 11, 0]\n",
      "Tour: 3\n",
      "Tour: 4\n",
      "Tour: 5\n",
      "NEW BEST: [0, 1, 9, 19, 4, 14, 18, 7, 3, 10, 13, 15, 16, 6, 12, 11, 2, 17, 5, 8, 0]\n",
      "Tour: 6\n",
      "Tour: 7\n",
      "NEW BEST: [0, 1, 9, 2, 17, 5, 8, 19, 4, 14, 18, 7, 3, 15, 13, 10, 16, 6, 12, 11, 0]\n",
      "Tour: 8\n",
      "Tour: 9\n",
      "Tour: 10\n",
      "Tour: 11\n",
      "Tour: 12\n",
      "Tour: 13\n",
      "Tour: 14\n",
      "NEW BEST: [0, 1, 9, 2, 17, 5, 8, 19, 4, 14, 18, 7, 3, 10, 13, 15, 16, 6, 12, 11, 0]\n",
      "Tour: 15\n",
      "Tour: 16\n",
      "Tour: 17\n",
      "Tour: 18\n",
      "Tour: 19\n",
      "Tour: 20\n",
      "Tour: 21\n",
      "Tour: 22\n",
      "Tour: 23\n",
      "Tour: 24\n",
      "Tour: 25\n",
      "Tour: 26\n",
      "Tour: 27\n",
      "Tour: 28\n",
      "Tour: 29\n",
      "Tour: 30\n",
      "Tour: 31\n",
      "Tour: 32\n",
      "Tour: 33\n",
      "Tour: 34\n",
      "Tour: 35\n",
      "Tour: 36\n",
      "Tour: 37\n",
      "Tour: 38\n",
      "Tour: 39\n",
      "Best: [0, 1, 9, 2, 17, 5, 8, 19, 4, 14, 18, 7, 3, 10, 13, 15, 16, 6, 12, 11, 0]\n",
      "Length: 4855.080269309787\n",
      "[0, 1, 9, 2, 17, 5, 8, 19, 4, 14, 18, 7, 3, 10, 13, 15, 16, 6, 12, 11, 0]\n",
      "34.163891315460205\n"
     ]
    }
   ],
   "source": [
    "aco = ACO(graph, 0, vizu)\n",
    "start = time.time()\n",
    "path = aco.run(40)\n",
    "print(path)\n",
    "print(time.time()-start)"
   ]
  },
  {
   "cell_type": "code",
   "execution_count": null,
   "metadata": {},
   "outputs": [],
   "source": []
  }
 ],
 "metadata": {
  "interpreter": {
   "hash": "1e4bf0d0c073412875ddf3584207195b872584d0a95affc545c0e70c83c1111c"
  },
  "kernelspec": {
   "name": "python3",
   "display_name": "Python 3.8.10 64-bit ('Project': conda)"
  },
  "language_info": {
   "codemirror_mode": {
    "name": "ipython",
    "version": 3
   },
   "file_extension": ".py",
   "mimetype": "text/x-python",
   "name": "python",
   "nbconvert_exporter": "python",
   "pygments_lexer": "ipython3",
   "version": "3.8.10"
  }
 },
 "nbformat": 4,
 "nbformat_minor": 4
}